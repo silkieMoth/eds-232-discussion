{
 "cells": [
  {
   "cell_type": "code",
   "execution_count": 3,
   "id": "8578e26e-3334-4fe8-88d7-c8f1d7f4a618",
   "metadata": {
    "tags": []
   },
   "outputs": [],
   "source": [
    "import pandas as pd\n",
    "import numpy as np\n",
    "from sklearn.linear_model import LinearRegression\n",
    "from sklearn.model_selection import train_test_split\n",
    "from sklearn.metrics import mean_squared_error, r2_score\n",
    "import matplotlib.pyplot as plt\n",
    "from ipywidgets import interact\n",
    "import ipywidgets as widgets\n",
    "from ipywidgets import interact, FloatSlider\n",
    "from IPython.display import display, clear_output\n",
    "\n",
    "import os\n",
    "\n",
    "root = os.path.join('/', 'Users', 'jpcohen', 'MEDS', 'eds_232', 'eds-232-discussion')\n",
    "data = os.path.join(root, 'data', 'Hurricane Irene and the Hudson River.xlsx')"
   ]
  },
  {
   "cell_type": "code",
   "execution_count": 39,
   "id": "ece3b19f-4f6e-4471-922e-d24258ecdb71",
   "metadata": {
    "tags": []
   },
   "outputs": [],
   "source": [
    "hurricane_do = pd.read_excel(data, 5)\n",
    "hurricane_turbidity = pd.read_excel(data, 2)\n",
    "hurricane_rainfall = pd.read_excel(data, 1)\n",
    "df = hurricane_do.join(hurricane_turbidity, lsuffix = '', rsuffix = '_d').join(hurricane_rainfall, lsuffix = '', rsuffix = '_dd').drop(['Date Time (ET)_d', 'Date Time (ET)_dd', 'Piermont D.O. (ppm)', 'Piermont Turbidity in NTU', 'Piermont  Rainfall Daily Accumulation (Inches)'], axis = 1).rename(columns = lambda x: x.strip()).set_index('Date Time (ET)')\n",
    "\n",
    "df.columns = ['albany_do', 'norrie_do', 'albany_turbidity', 'norrie_turbidity', 'albany_rainfall', 'norrie_rainfall']"
   ]
  },
  {
   "cell_type": "code",
   "execution_count": 41,
   "id": "c050c1b7-5447-46e0-adc9-04a74ffd6d73",
   "metadata": {
    "tags": []
   },
   "outputs": [
    {
     "data": {
      "text/html": [
       "<div>\n",
       "<style scoped>\n",
       "    .dataframe tbody tr th:only-of-type {\n",
       "        vertical-align: middle;\n",
       "    }\n",
       "\n",
       "    .dataframe tbody tr th {\n",
       "        vertical-align: top;\n",
       "    }\n",
       "\n",
       "    .dataframe thead th {\n",
       "        text-align: right;\n",
       "    }\n",
       "</style>\n",
       "<table border=\"1\" class=\"dataframe\">\n",
       "  <thead>\n",
       "    <tr style=\"text-align: right;\">\n",
       "      <th></th>\n",
       "      <th>albany_do</th>\n",
       "      <th>norrie_do</th>\n",
       "      <th>albany_turbidity</th>\n",
       "      <th>norrie_turbidity</th>\n",
       "      <th>albany_rainfall</th>\n",
       "      <th>norrie_rainfall</th>\n",
       "    </tr>\n",
       "    <tr>\n",
       "      <th>Date Time (ET)</th>\n",
       "      <th></th>\n",
       "      <th></th>\n",
       "      <th></th>\n",
       "      <th></th>\n",
       "      <th></th>\n",
       "      <th></th>\n",
       "    </tr>\n",
       "  </thead>\n",
       "  <tbody>\n",
       "    <tr>\n",
       "      <th>2011-08-25 00:00:00</th>\n",
       "      <td>7.68</td>\n",
       "      <td>7.81</td>\n",
       "      <td>4.0</td>\n",
       "      <td>9.3</td>\n",
       "      <td>0.000000</td>\n",
       "      <td>0.000000</td>\n",
       "    </tr>\n",
       "    <tr>\n",
       "      <th>2011-08-25 00:15:00</th>\n",
       "      <td>7.60</td>\n",
       "      <td>7.73</td>\n",
       "      <td>3.9</td>\n",
       "      <td>8.4</td>\n",
       "      <td>0.000000</td>\n",
       "      <td>0.000000</td>\n",
       "    </tr>\n",
       "    <tr>\n",
       "      <th>2011-08-25 00:30:00</th>\n",
       "      <td>7.57</td>\n",
       "      <td>7.63</td>\n",
       "      <td>4.3</td>\n",
       "      <td>7.9</td>\n",
       "      <td>0.000000</td>\n",
       "      <td>0.000000</td>\n",
       "    </tr>\n",
       "    <tr>\n",
       "      <th>2011-08-25 00:45:00</th>\n",
       "      <td>7.72</td>\n",
       "      <td>7.67</td>\n",
       "      <td>4.7</td>\n",
       "      <td>8.1</td>\n",
       "      <td>0.000000</td>\n",
       "      <td>0.000000</td>\n",
       "    </tr>\n",
       "    <tr>\n",
       "      <th>2011-08-25 01:00:00</th>\n",
       "      <td>7.74</td>\n",
       "      <td>7.63</td>\n",
       "      <td>4.4</td>\n",
       "      <td>8.4</td>\n",
       "      <td>0.000000</td>\n",
       "      <td>0.000000</td>\n",
       "    </tr>\n",
       "    <tr>\n",
       "      <th>...</th>\n",
       "      <td>...</td>\n",
       "      <td>...</td>\n",
       "      <td>...</td>\n",
       "      <td>...</td>\n",
       "      <td>...</td>\n",
       "      <td>...</td>\n",
       "    </tr>\n",
       "    <tr>\n",
       "      <th>2011-09-05 22:45:00</th>\n",
       "      <td>8.73</td>\n",
       "      <td>6.84</td>\n",
       "      <td>47.2</td>\n",
       "      <td>144.1</td>\n",
       "      <td>0.629999</td>\n",
       "      <td>1.219998</td>\n",
       "    </tr>\n",
       "    <tr>\n",
       "      <th>2011-09-05 23:00:00</th>\n",
       "      <td>8.76</td>\n",
       "      <td>6.78</td>\n",
       "      <td>56.7</td>\n",
       "      <td>139.7</td>\n",
       "      <td>0.639999</td>\n",
       "      <td>1.239998</td>\n",
       "    </tr>\n",
       "    <tr>\n",
       "      <th>2011-09-05 23:15:00</th>\n",
       "      <td>8.66</td>\n",
       "      <td>6.83</td>\n",
       "      <td>47.0</td>\n",
       "      <td>141.2</td>\n",
       "      <td>0.649999</td>\n",
       "      <td>1.259997</td>\n",
       "    </tr>\n",
       "    <tr>\n",
       "      <th>2011-09-05 23:30:00</th>\n",
       "      <td>8.75</td>\n",
       "      <td>6.79</td>\n",
       "      <td>48.7</td>\n",
       "      <td>127.9</td>\n",
       "      <td>0.679999</td>\n",
       "      <td>1.269997</td>\n",
       "    </tr>\n",
       "    <tr>\n",
       "      <th>2011-09-05 23:45:00</th>\n",
       "      <td>8.68</td>\n",
       "      <td>6.78</td>\n",
       "      <td>49.5</td>\n",
       "      <td>149.0</td>\n",
       "      <td>0.719999</td>\n",
       "      <td>1.289997</td>\n",
       "    </tr>\n",
       "  </tbody>\n",
       "</table>\n",
       "<p>1152 rows × 6 columns</p>\n",
       "</div>"
      ],
      "text/plain": [
       "                     albany_do  norrie_do  albany_turbidity  norrie_turbidity  \\\n",
       "Date Time (ET)                                                                  \n",
       "2011-08-25 00:00:00       7.68       7.81               4.0               9.3   \n",
       "2011-08-25 00:15:00       7.60       7.73               3.9               8.4   \n",
       "2011-08-25 00:30:00       7.57       7.63               4.3               7.9   \n",
       "2011-08-25 00:45:00       7.72       7.67               4.7               8.1   \n",
       "2011-08-25 01:00:00       7.74       7.63               4.4               8.4   \n",
       "...                        ...        ...               ...               ...   \n",
       "2011-09-05 22:45:00       8.73       6.84              47.2             144.1   \n",
       "2011-09-05 23:00:00       8.76       6.78              56.7             139.7   \n",
       "2011-09-05 23:15:00       8.66       6.83              47.0             141.2   \n",
       "2011-09-05 23:30:00       8.75       6.79              48.7             127.9   \n",
       "2011-09-05 23:45:00       8.68       6.78              49.5             149.0   \n",
       "\n",
       "                     albany_rainfall  norrie_rainfall  \n",
       "Date Time (ET)                                         \n",
       "2011-08-25 00:00:00         0.000000         0.000000  \n",
       "2011-08-25 00:15:00         0.000000         0.000000  \n",
       "2011-08-25 00:30:00         0.000000         0.000000  \n",
       "2011-08-25 00:45:00         0.000000         0.000000  \n",
       "2011-08-25 01:00:00         0.000000         0.000000  \n",
       "...                              ...              ...  \n",
       "2011-09-05 22:45:00         0.629999         1.219998  \n",
       "2011-09-05 23:00:00         0.639999         1.239998  \n",
       "2011-09-05 23:15:00         0.649999         1.259997  \n",
       "2011-09-05 23:30:00         0.679999         1.269997  \n",
       "2011-09-05 23:45:00         0.719999         1.289997  \n",
       "\n",
       "[1152 rows x 6 columns]"
      ]
     },
     "execution_count": 41,
     "metadata": {},
     "output_type": "execute_result"
    }
   ],
   "source": [
    "df"
   ]
  },
  {
   "cell_type": "markdown",
   "id": "1aece1ee-810b-4009-9e70-b9375fe5a1d9",
   "metadata": {},
   "source": [
    "Multiple Linear Regression\n",
    "\n",
    "Now that our data is cleaned, let’s do the following to carry out a multiple linear regression. we will be practicing"
   ]
  },
  {
   "cell_type": "code",
   "execution_count": 48,
   "id": "8a3991a2-be0f-498a-88e5-1fd08f626dd2",
   "metadata": {
    "tags": []
   },
   "outputs": [
    {
     "name": "stdout",
     "output_type": "stream",
     "text": [
      "RMSE: 221.9143474905527\n",
      "R-squared: 0.490738951845751\n"
     ]
    }
   ],
   "source": [
    "# define predictors and the target variable\n",
    "x = df[['albany_rainfall', 'albany_do']]\n",
    "y = df[['albany_turbidity']]\n",
    "\n",
    "# split the data into training and testing sets\n",
    "x_train, x_test, y_train, y_test = train_test_split(x, y, test_size = 0.3, random_state = 42)\n",
    "\n",
    "# create and fit the model\n",
    "model = LinearRegression().fit(x_train, y_train)\n",
    "model\n",
    "\n",
    "# predict and evaluate\n",
    "y_pred = model.predict(x_test)\n",
    "print(f\"RMSE: {np.sqrt(mean_squared_error(y_test, y_pred))}\")\n",
    "print(f\"R-squared: {r2_score(y_test, y_pred)}\")"
   ]
  },
  {
   "cell_type": "markdown",
   "id": "230db797-5c46-45b8-afbd-1e70c53a0c77",
   "metadata": {
    "tags": []
   },
   "source": [
    "# create a widget to visualize different models"
   ]
  },
  {
   "cell_type": "code",
   "execution_count": 67,
   "id": "19e3f823-6280-43cc-8248-8b576601be10",
   "metadata": {
    "tags": []
   },
   "outputs": [
    {
     "data": {
      "application/vnd.jupyter.widget-view+json": {
       "model_id": "343880cd3525441a90aaee1204f3e6dd",
       "version_major": 2,
       "version_minor": 0
      },
      "text/plain": [
       "SelectMultiple(description='Predictors', index=(0,), options=('albany_do', 'norrie_do', 'albany_turbidity', 'n…"
      ]
     },
     "metadata": {},
     "output_type": "display_data"
    },
    {
     "data": {
      "application/vnd.jupyter.widget-view+json": {
       "model_id": "9d7521d0ea254660aa0e4e7be9990fa9",
       "version_major": 2,
       "version_minor": 0
      },
      "text/plain": [
       "Dropdown(description='Target', index=1, options=('albany_do', 'norrie_do', 'albany_turbidity', 'norrie_turbidi…"
      ]
     },
     "metadata": {},
     "output_type": "display_data"
    },
    {
     "data": {
      "application/vnd.jupyter.widget-view+json": {
       "model_id": "4f880bc0eded4929b248c65f89be5165",
       "version_major": 2,
       "version_minor": 0
      },
      "text/plain": [
       "Button(description='Evaluate Model', style=ButtonStyle())"
      ]
     },
     "metadata": {},
     "output_type": "display_data"
    },
    {
     "data": {
      "application/vnd.jupyter.widget-view+json": {
       "model_id": "9c62e5851392448fa6abfa662b419b7f",
       "version_major": 2,
       "version_minor": 0
      },
      "text/plain": [
       "Output()"
      ]
     },
     "metadata": {},
     "output_type": "display_data"
    }
   ],
   "source": [
    "# create a widget for selecting predictors\n",
    "predictor_selector = widgets.SelectMultiple(\n",
    "    options = df.columns,\n",
    "    value = [df.columns[0]], \n",
    "    description = 'Predictors'\n",
    ")\n",
    "\n",
    "# create a dropdown for selecting the target variable\n",
    "target_selector = widgets.Dropdown(\n",
    "    options = df.columns,\n",
    "    value = df.columns[1],\n",
    "    description = 'Target'\n",
    ")\n",
    "\n",
    "# button to evaluate the model\n",
    "evaluate_button = widgets.Button(description = 'Evaluate Model')\n",
    "\n",
    "# output widget to display results\n",
    "output = widgets.Output()\n",
    "\n",
    "#Define the function to handle button clicks\n",
    "def evaluate_model(b):\n",
    "    with output:\n",
    "        clear_output(wait = True) # clear output of display area\n",
    "        \n",
    "        # make sure the target is not in the predictors\n",
    "        selected_predictors = [item for item in predictor_selector.value]\n",
    "        if target_selector.value in selected_predictors :\n",
    "            print(\"Target variable must not be in the predictors.\")\n",
    "            return\n",
    "        \n",
    "        # prepare the data\n",
    "        x = df[selected_predictors]\n",
    "        y = df[target_selector.value]\n",
    "        \n",
    "        # split data into training and testing sets\n",
    "        x_train, x_test, y_train, y_test = train_test_split(x, y, test_size = 0.3, random_state = 42)\n",
    "        \n",
    "        # create and fit the model\n",
    "        model = LinearRegression()\n",
    "        model.fit(x_train, y_train)\n",
    "        \n",
    "        # predict and calculate R^2 and mse\n",
    "        y_pred = model.predict(x_test)\n",
    "        r2 = r2_score(y_test, y_pred)\n",
    "        root_mse = np.sqrt(mean_squared_error(y_test, y_pred))\n",
    "        \n",
    "        # Display the R^2 score and mse\n",
    "        print(f\"R^2: {r2:.4f}\")\n",
    "        print(f\"MSE: {root_mse:.4f}\")\n",
    "        \n",
    "# display the widgets and connect the button to the function\n",
    "display(predictor_selector, target_selector, evaluate_button, output)\n",
    "evaluate_button.on_click(evaluate_model)"
   ]
  },
  {
   "cell_type": "code",
   "execution_count": null,
   "id": "60e4c7e9-576a-4fef-97ab-f079bc973683",
   "metadata": {},
   "outputs": [],
   "source": []
  }
 ],
 "metadata": {
  "kernelspec": {
   "display_name": "Anaconda 3 (EDS232)",
   "language": "python",
   "name": "ml-env"
  },
  "language_info": {
   "codemirror_mode": {
    "name": "ipython",
    "version": 3
   },
   "file_extension": ".py",
   "mimetype": "text/x-python",
   "name": "python",
   "nbconvert_exporter": "python",
   "pygments_lexer": "ipython3",
   "version": "3.10.16"
  }
 },
 "nbformat": 4,
 "nbformat_minor": 5
}
