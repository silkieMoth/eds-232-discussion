{
 "cells": [
  {
   "cell_type": "code",
   "execution_count": 1,
   "id": "7550e5c2-3e73-4fe0-b8e5-c6e5a989bb01",
   "metadata": {},
   "outputs": [],
   "source": [
    "import numpy as np\n",
    "import os\n",
    "from PIL import Image\n",
    "import matplotlib.pyplot as plt\n",
    "from sklearn.decomposition import PCA\n",
    "from sklearn.cluster import KMeans\n",
    "from matplotlib.patches import Patch\n",
    "from ipywidgets import IntSlider, interact, Layout\n",
    "from IPython.display import display\n",
    "import zipfile\n",
    "\n",
    "disease_folder = os.path.join(os.getcwd(), \"data\", \"plant_disease\")"
   ]
  },
  {
   "cell_type": "code",
   "execution_count": 2,
   "id": "a8764cf7-c4ba-40d9-bd82-efba50929b4f",
   "metadata": {
    "tags": []
   },
   "outputs": [
    {
     "name": "stdout",
     "output_type": "stream",
     "text": [
      "Files extracted to /Users/jpcohen/MEDS/eds_232/eds-232-discussion/data/plant_disease\n"
     ]
    }
   ],
   "source": [
    "def unzip(zip_path, extract_to):\n",
    "    # Ensure the extraction directory exists\n",
    "    if not os.path.exists(extract_to):\n",
    "        os.makedirs(extract_to)\n",
    "\n",
    "    # Open the zip file\n",
    "    with zipfile.ZipFile(zip_path, 'r') as zip_ref:\n",
    "        # Extract all the contents into the directory\n",
    "        zip_ref.extractall(extract_to)\n",
    "        print(f\"Files extracted to {extract_to}\")\n",
    "unzip(os.path.join(os.getcwd(), 'data', 'Plant_leaf_diseases_dataset_with_augmentation.zip'), disease_folder)"
   ]
  },
  {
   "cell_type": "code",
   "execution_count": 3,
   "id": "2ffb4a2f-02d8-4813-9f62-e9e52a7aaa25",
   "metadata": {
    "tags": []
   },
   "outputs": [
    {
     "name": "stdout",
     "output_type": "stream",
     "text": [
      "Loading from Apple___Apple_scab...\n",
      "Loading from Apple___Black_rot...\n",
      "Loading from Apple___Cedar_apple_rust...\n",
      "Loading from Apple___healthy...\n",
      "Loading from Background_without_leaves...\n",
      "Loading from Blueberry___healthy...\n",
      "Loading from Cherry___Powdery_mildew...\n",
      "Loading from Cherry___healthy...\n",
      "Loading from Corn___Cercospora_leaf_spot Gray_leaf_spot...\n",
      "Loading from Corn___Common_rust...\n",
      "Loading from Corn___Northern_Leaf_Blight...\n",
      "Loading from Corn___healthy...\n",
      "Loading from Grape___Black_rot...\n",
      "Loading from Grape___Esca_(Black_Measles)...\n",
      "Loading from Grape___Leaf_blight_(Isariopsis_Leaf_Spot)...\n",
      "Loading from Grape___healthy...\n",
      "Loading from Orange___Haunglongbing_(Citrus_greening)...\n",
      "Loading from Peach___Bacterial_spot...\n",
      "Loading from Peach___healthy...\n",
      "Loading from Pepper,_bell___Bacterial_spot...\n",
      "Loading from Pepper,_bell___healthy...\n",
      "Loading from Potato___Early_blight...\n",
      "Loading from Potato___Late_blight...\n",
      "Loading from Potato___healthy...\n",
      "Loading from Raspberry___healthy...\n",
      "Loading from Soybean___healthy...\n",
      "Loading from Squash___Powdery_mildew...\n",
      "Loading from Strawberry___Leaf_scorch...\n",
      "Loading from Strawberry___healthy...\n",
      "Loading from Tomato___Bacterial_spot...\n",
      "Loading from Tomato___Early_blight...\n",
      "Loading from Tomato___Late_blight...\n",
      "Loading from Tomato___Leaf_Mold...\n",
      "Loading from Tomato___Septoria_leaf_spot...\n",
      "Loading from Tomato___Spider_mites Two-spotted_spider_mite...\n",
      "Loading from Tomato___Target_Spot...\n",
      "Loading from Tomato___Tomato_Yellow_Leaf_Curl_Virus...\n",
      "Loading from Tomato___Tomato_mosaic_virus...\n",
      "Loading from Tomato___healthy...\n",
      "Loaded 780 images from 39 disease classes\n"
     ]
    }
   ],
   "source": [
    "# Function to open and standardize images used in model\n",
    "\n",
    "def load_images(base_path, max_per_folder=20):\n",
    "    images = [] # Empty list to store images\n",
    "    labels = [] # Empty list to store label of each images\n",
    "    class_names = [] # Empty list to store the names of the folders for all images\n",
    "\n",
    "    for i, folder in enumerate(sorted(os.listdir(base_path))):\n",
    "        folder_path = os.path.join(base_path, folder) # Join base path with folders to iterate over\n",
    "        if not os.path.isdir(folder_path):\n",
    "            continue\n",
    "\n",
    "        class_names.append(folder)\n",
    "        print(f\"Loading from {folder}...\")\n",
    "\n",
    "        count = 0\n",
    "        for img_file in os.listdir(folder_path): # Iterate over each item in each folder\n",
    "            if count >= max_per_folder: # Stop when counter gets to 20 images\n",
    "                break\n",
    "\n",
    "            if img_file.lower().endswith(('.png', '.jpg', '.jpeg')): # Ensure file in folder is correct format\n",
    "                try:\n",
    "                    img_path = os.path.join(folder_path, img_file)\n",
    "                    with Image.open(img_path) as img: # Open image\n",
    "                        img = img.convert('RGB') # Convert it to RGB to standardize color channels\n",
    "                        img = img.resize((100, 100), Image.Resampling.LANCZOS) # Resize image using LANCZOS resampling method\n",
    "\n",
    "                    images.append(np.array(img)) # Convert image to array and add to image list\n",
    "                    labels.append(i) # Add label to label list \n",
    "                    count += 1\n",
    "                except Exception as e: # Print error message if error with a file\n",
    "                    print(f\"Error with {img_file}: {e}\")\n",
    "\n",
    "    return np.array(images), np.array(labels), class_names\n",
    "\n",
    "data_path = os.path.join(disease_folder, \"Plant_leave_diseases_dataset_with_augmentation\")\n",
    "images, labels, class_names = load_images(data_path)\n",
    "print(f\"Loaded {len(images)} images from {len(class_names)} disease classes\")"
   ]
  },
  {
   "cell_type": "code",
   "execution_count": 7,
   "id": "8fa029f2-39b6-41c0-91f7-fa7459f890f4",
   "metadata": {
    "tags": []
   },
   "outputs": [
    {
     "name": "stdout",
     "output_type": "stream",
     "text": [
      "Feature shape: (780, 768)\n",
      "Reduced features shape: (780, 2)\n"
     ]
    },
    {
     "data": {
      "text/plain": [
       "array([[-0.00282348, -0.02355508],\n",
       "       [-0.00503371, -0.0073291 ],\n",
       "       [-0.00255764, -0.0288426 ],\n",
       "       ...,\n",
       "       [-0.00308967, -0.02260993],\n",
       "       [-0.00224362, -0.01259052],\n",
       "       [-0.00139569, -0.01875976]], dtype=float32)"
      ]
     },
     "execution_count": 7,
     "metadata": {},
     "output_type": "execute_result"
    }
   ],
   "source": [
    "# function to extract gfeatures and perform PCA\n",
    "def extract_features_and_reduce(images): \n",
    "    features = []\n",
    "    for img_array in images:\n",
    "        img = Image.fromarray(img_array)\n",
    "        histogram = np.array(img.histogram()).astype('float32') # create histogram of image \n",
    "        histogram = histogram/histogram.sum() # noramlizing histogram\n",
    "        features.append(histogram)\n",
    "    features = np.array(features)\n",
    "    print(f\"Feature shape: {features.shape}\")\n",
    "    \n",
    "    # Perform PCA\n",
    "    pca = PCA(n_components = 2)\n",
    "    reduced_features = pca.fit_transform(features) # Fit pca to feature matrix\n",
    "    print(f\"Reduced features shape: {reduced_features.shape}\")\n",
    "    \n",
    "    return reduced_features\n",
    "\n",
    "features = extract_features_and_reduce(images)\n",
    "features"
   ]
  },
  {
   "cell_type": "code",
   "execution_count": 15,
   "id": "ea85cbf0-b9bd-4200-9870-359dafb93556",
   "metadata": {
    "tags": []
   },
   "outputs": [
    {
     "data": {
      "application/vnd.jupyter.widget-view+json": {
       "model_id": "8bac5c7c524a41919ba1cbdd28298bbf",
       "version_major": 2,
       "version_minor": 0
      },
      "text/plain": [
       "interactive(children=(IntSlider(value=3, description='Clusters:', layout=Layout(width='80%'), max=15, min=2), …"
      ]
     },
     "metadata": {},
     "output_type": "display_data"
    },
    {
     "data": {
      "text/plain": [
       "None"
      ]
     },
     "metadata": {},
     "output_type": "display_data"
    }
   ],
   "source": [
    "# function to create interactive widget for clustering with visualization\n",
    "\n",
    "def create_interactive_widget(images, features, labels, class_names): \n",
    "    slider = IntSlider(value = 3, min = 2, max = 15, description = 'Clusters:', layout = Layout(width = \"80%\"))\n",
    "    \n",
    "    # function that updates clusters based on slider input from user\n",
    "    def update_clusters(cluster_num): \n",
    "        \n",
    "        plt.figure(figsize = (15,7))\n",
    "        kmeans = KMeans(n_clusters = cluster_num, random_state = 42, n_init = 10)\n",
    "        cluster_labels = kmeans.fit_predict(features)\n",
    "        \n",
    "        # Visualize clusters\n",
    "        scatter = plt.scatter(features[:, 0], features[:, 1], c = cluster_labels, cmap = \"viridis\")\n",
    "        plt.title(\"PCA Reduced Features by Cluster Labels\")\n",
    "        plt.xlabel(\"PCA Component 1\")\n",
    "        plt.ylabel(\"PCA Compnent 2\")\n",
    "        plt.grid(True)\n",
    "        \n",
    "        # update legend\n",
    "        colors = plt.cm.viridis(np.linspace(0, 1, cluster_num))\n",
    "        \n",
    "        legends = [Patch(facecolor = clr, label = f'Cluster {i+1}') for i,clr, in enumerate(colors)]\n",
    "        plt.legend(handles = legends, title = \"Clusters\")\n",
    "        \n",
    "        # Show plot\n",
    "        plt.tight_layout()\n",
    "        plt.show()\n",
    "        \n",
    "        # print observation results for each cluster\n",
    "        print(f\"Results for {cluster_num} clusters:\")\n",
    "        \n",
    "        for i in range(cluster_num): \n",
    "            print(f\"Cluster {i+1}: {np.sum(cluster_labels == i)} samples\")\n",
    "            \n",
    "        # display a few images from each cluster\n",
    "        for i in range(cluster_num): \n",
    "            \n",
    "            plt.figure(figsize = (15,5))\n",
    "            \n",
    "            # find the indices of all images that belong to the current cluster\n",
    "            cluster_indices = np.where(cluster_labels == i)[0]\n",
    "            \n",
    "            # randomly select 5 indices for each cluster\n",
    "            selected_indices = np.random.choice(cluster_indices, min(len(cluster_indices), 5), replace = False)\n",
    "            \n",
    "            for j, idx in enumerate(selected_indices): \n",
    "                plt.subplot(1, 5, j+1)\n",
    "                plt.imshow(images[idx])\n",
    "                plt.title(f\"Cluster {i+1}\")\n",
    "                plt.axis('off')\n",
    "            plt.show()\n",
    "        \n",
    "    interact(update_clusters, cluster_num = slider)\n",
    "    \n",
    "\n",
    "\n",
    "knn_widget = create_interactive_widget(images, features, labels, class_names)\n",
    "display(knn_widget)"
   ]
  },
  {
   "cell_type": "code",
   "execution_count": null,
   "id": "37503add-1704-45d0-a052-8afa1cf9525f",
   "metadata": {},
   "outputs": [],
   "source": []
  }
 ],
 "metadata": {
  "kernelspec": {
   "display_name": "Python 3 (ipykernel)",
   "language": "python",
   "name": "python3"
  },
  "language_info": {
   "codemirror_mode": {
    "name": "ipython",
    "version": 3
   },
   "file_extension": ".py",
   "mimetype": "text/x-python",
   "name": "python",
   "nbconvert_exporter": "python",
   "pygments_lexer": "ipython3",
   "version": "3.7.13"
  }
 },
 "nbformat": 4,
 "nbformat_minor": 5
}
